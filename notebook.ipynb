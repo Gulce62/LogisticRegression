{
 "cells": [
  {
   "cell_type": "code",
   "execution_count": 1,
   "outputs": [],
   "source": [
    "import sys\n",
    "import pandas as pd\n",
    "import numpy as np\n",
    "import matplotlib.pyplot as plt\n",
    "import seaborn as sn\n",
    "from sklearn.metrics import accuracy_score\n",
    "import sklearn\n",
    "import sklearn.datasets\n",
    "import sklearn.linear_model as l"
   ],
   "metadata": {
    "collapsed": false
   }
  },
  {
   "cell_type": "code",
   "execution_count": 2,
   "outputs": [],
   "source": [
    "def read_data(file_name):\n",
    "    # Read the data with its path location\n",
    "    try:\n",
    "        data = pd.read_csv(file_name)\n",
    "        return data\n",
    "    except Exception:\n",
    "        sys.exit(1)"
   ],
   "metadata": {
    "collapsed": false
   }
  },
  {
   "cell_type": "code",
   "execution_count": 3,
   "outputs": [],
   "source": [
    "def trainValTestSplit(data):\n",
    "    shuffled = data.sample(frac=1, random_state=1)\n",
    "    dataSize = len(shuffled)\n",
    "    train = shuffled[:int(dataSize * 0.7)]\n",
    "    val = shuffled[int(dataSize * 0.7):int(dataSize * 0.8)]\n",
    "    test = shuffled[int(dataSize * 0.8):]\n",
    "    return train, val, test"
   ],
   "metadata": {
    "collapsed": false
   }
  },
  {
   "cell_type": "code",
   "execution_count": 4,
   "outputs": [],
   "source": [
    "def normalize(X, min, max):\n",
    "    X = (X - min) / (max - min)\n",
    "    return X"
   ],
   "metadata": {
    "collapsed": false
   }
  },
  {
   "cell_type": "code",
   "execution_count": 34,
   "outputs": [],
   "source": [
    "def get_data(file_location):\n",
    "    data = read_data(file_location)\n",
    "\n",
    "    train, val, test = trainValTestSplit(data)\n",
    "    minVal = train.iloc[:, :-1].min()\n",
    "    maxVal = train.iloc[:, :-1].max()\n",
    "\n",
    "    X_train = np.array(normalize(train.iloc[:, :-1], minVal, maxVal))\n",
    "    X_val = np.array(normalize(val.iloc[:, :-1], minVal, maxVal))\n",
    "    X_test = np.array(normalize(test.iloc[:, :-1], minVal, maxVal))\n",
    "\n",
    "    y_train = np.array(train.iloc[:, -1:])\n",
    "    y_val = np.array(val.iloc[:, -1:])\n",
    "    y_test = np.array(test.iloc[:, -1:])\n",
    "\n",
    "    return X_train, X_val, X_test, y_train, y_val, y_test"
   ],
   "metadata": {
    "collapsed": false
   }
  },
  {
   "cell_type": "code",
   "execution_count": 35,
   "outputs": [],
   "source": [
    "absolutePath = r'C:\\Users\\gulce\\Desktop\\EEE 8TH SEMESTER\\CS 464\\Homeworks\\HW2\\dataset.csv'\n",
    "# absolutePath = input('Enter the file location of the dataset: ')\n",
    "X_train, X_val, X_test, y_train, y_val, y_test = get_data(absolutePath)"
   ],
   "metadata": {
    "collapsed": false
   }
  },
  {
   "cell_type": "code",
   "execution_count": 36,
   "outputs": [
    {
     "name": "stdout",
     "output_type": "stream",
     "text": [
      "X_train shape: (42000, 12)\n",
      "X_val shape: (6000, 12)\n",
      "X_test shape: (12000, 12)\n",
      "y_train shape: (42000, 1)\n",
      "y_val shape: (6000, 1)\n",
      "y_test shape: (12000, 1)\n"
     ]
    }
   ],
   "source": [
    "print(\"X_train shape: {}\".format(X_train.shape))\n",
    "print(\"X_val shape: {}\".format(X_val.shape))\n",
    "print(\"X_test shape: {}\".format(X_test.shape))\n",
    "print(\"y_train shape: {}\".format(y_train.shape))\n",
    "print(\"y_val shape: {}\".format(y_val.shape))\n",
    "print(\"y_test shape: {}\".format(y_test.shape))"
   ],
   "metadata": {
    "collapsed": false
   }
  },
  {
   "cell_type": "code",
   "execution_count": 37,
   "outputs": [
    {
     "name": "stdout",
     "output_type": "stream",
     "text": [
      "0.8161666666666667\n"
     ]
    },
    {
     "name": "stderr",
     "output_type": "stream",
     "text": [
      "C:\\Users\\gulce\\anaconda3\\envs\\LogisticRegression\\lib\\site-packages\\sklearn\\utils\\validation.py:1111: DataConversionWarning: A column-vector y was passed when a 1d array was expected. Please change the shape of y to (n_samples, ), for example using ravel().\n",
      "  y = column_or_1d(y, warn=True)\n"
     ]
    }
   ],
   "source": [
    "clf = l.LogisticRegression()\n",
    "clf.fit(X_train, y_train)\n",
    "\n",
    "score = clf.score(X_test, y_test)\n",
    "print(score)"
   ],
   "metadata": {
    "collapsed": false
   }
  },
  {
   "cell_type": "code",
   "execution_count": 123,
   "outputs": [
    {
     "name": "stdout",
     "output_type": "stream",
     "text": [
      "(42000, 13)\n",
      "[[1.         0.30956952 0.28367322 ... 0.59995754 0.40000619 0.8800661 ]\n",
      " [1.         0.59887455 0.55850998 ... 0.75935779 0.73983466 0.42448846]\n",
      " [1.         0.71191971 0.40501184 ... 0.40527032 0.91204029 0.37719168]\n",
      " ...\n",
      " [1.         0.44895634 0.84187827 ... 0.53344166 0.721973   0.93609452]\n",
      " [1.         0.9499972  0.10242888 ... 0.53987897 0.79409739 0.51475455]\n",
      " [1.         0.71979276 0.96154749 ... 0.15268457 0.83782957 0.30578468]]\n"
     ]
    }
   ],
   "source": [
    "ones = np.ones((1, X_train.shape[0]))\n",
    "X_train = np.insert(X_train, 0, ones, axis=1)\n",
    "print(X_train.shape)\n",
    "print(X_train)"
   ],
   "metadata": {
    "collapsed": false
   }
  },
  {
   "cell_type": "code",
   "execution_count": 124,
   "outputs": [],
   "source": [
    "def sigmoid(z):\n",
    "    s = 1 / (1 + np.exp(-z))\n",
    "    return s"
   ],
   "metadata": {
    "collapsed": false
   }
  },
  {
   "cell_type": "code",
   "execution_count": 125,
   "outputs": [],
   "source": [
    "def gaussianInitialization(dimension):\n",
    "    w = np.random.normal(loc=0, scale=1, size=(dimension, 1))\n",
    "    return w"
   ],
   "metadata": {
    "collapsed": false
   }
  },
  {
   "cell_type": "code",
   "execution_count": 126,
   "outputs": [
    {
     "ename": "SyntaxError",
     "evalue": "incomplete input (2690429108.py, line 3)",
     "output_type": "error",
     "traceback": [
      "\u001B[1;36m  Cell \u001B[1;32mIn [126], line 3\u001B[1;36m\u001B[0m\n\u001B[1;33m    \u001B[0m\n\u001B[1;37m    ^\u001B[0m\n\u001B[1;31mSyntaxError\u001B[0m\u001B[1;31m:\u001B[0m incomplete input\n"
     ]
    }
   ],
   "source": [
    "def createBatches(X_train, batchSize):\n",
    "\n"
   ],
   "metadata": {
    "collapsed": false
   }
  },
  {
   "cell_type": "code",
   "execution_count": 133,
   "outputs": [],
   "source": [
    "class LogisticRegression:\n",
    "    def __init__(self, epochs=100, learningRate=0.001, batchSize=64):\n",
    "        self.epochs = epochs\n",
    "        self.learningRate = learningRate\n",
    "        self.batchSize = batchSize\n",
    "\n",
    "    def fit(self, X_train, y_train):\n",
    "        m = X_train.shape[1]\n",
    "        w = gaussianInitialization(m)\n",
    "        for x in range(len(X_train)):\n",
    "                A = X_train[x].reshape(1, (len(X_train[x])))\n",
    "                prob = sigmoid(np.dot(A, w))\n",
    "                dw = np.dot(A.T, (y_train[x]-prob))\n",
    "                w -= self.learningRate * dw\n",
    "        return w\n",
    "\n",
    "    def predict(self, w, X, threshold):\n",
    "        y_pred = np.zeros(X.shape[0])\n",
    "        print(w.shape)\n",
    "        w = w.reshape(X.shape[1], 1)\n",
    "        print(w.shape)\n",
    "        A = sigmoid(np.dot(X, w))\n",
    "        print(A.shape)\n",
    "        for i in range(A.shape[0]):\n",
    "            if A[i,0] > threshold:\n",
    "                y_pred[i] = 1\n",
    "            else:\n",
    "                y_pred[i] = 0\n",
    "        return y_pred"
   ],
   "metadata": {
    "collapsed": false
   }
  },
  {
   "cell_type": "code",
   "execution_count": 134,
   "outputs": [
    {
     "name": "stdout",
     "output_type": "stream",
     "text": [
      "[[26864.05517725]\n",
      " [14811.09048174]\n",
      " [14788.41756675]\n",
      " [14856.14864805]\n",
      " [14843.29551662]\n",
      " [13649.48118635]\n",
      " [13400.93878795]\n",
      " [13362.80685455]\n",
      " [13379.21428694]\n",
      " [14663.03415493]\n",
      " [14714.34704991]\n",
      " [14720.69242063]\n",
      " [14735.16714024]]\n"
     ]
    }
   ],
   "source": [
    "model = LogisticRegression(10, 1)\n",
    "w = model.fit(X_train, y_train)\n",
    "print(w)"
   ],
   "metadata": {
    "collapsed": false
   }
  },
  {
   "cell_type": "code",
   "execution_count": 135,
   "outputs": [
    {
     "name": "stdout",
     "output_type": "stream",
     "text": [
      "(13, 1)\n",
      "(13, 1)\n",
      "(42000, 1)\n"
     ]
    }
   ],
   "source": [
    "Y_prediction_train = model.predict(w, X_train, 0.5)"
   ],
   "metadata": {
    "collapsed": false
   }
  },
  {
   "cell_type": "code",
   "execution_count": 136,
   "outputs": [
    {
     "name": "stdout",
     "output_type": "stream",
     "text": [
      "[1. 1. 1. ... 1. 1. 1.]\n",
      "(42000,)\n"
     ]
    }
   ],
   "source": [
    "print(Y_prediction_train)\n",
    "print(Y_prediction_train.shape)"
   ],
   "metadata": {
    "collapsed": false
   }
  },
  {
   "cell_type": "code",
   "execution_count": 137,
   "outputs": [
    {
     "name": "stdout",
     "output_type": "stream",
     "text": [
      "42000\n"
     ]
    }
   ],
   "source": [
    "print(np.count_nonzero(Y_prediction_train))"
   ],
   "metadata": {
    "collapsed": false
   }
  },
  {
   "cell_type": "code",
   "execution_count": 138,
   "outputs": [
    {
     "name": "stdout",
     "output_type": "stream",
     "text": [
      "0.36038095238095236\n"
     ]
    }
   ],
   "source": [
    "print(accuracy_score(Y_prediction_train, y_train))"
   ],
   "metadata": {
    "collapsed": false
   }
  },
  {
   "cell_type": "code",
   "execution_count": null,
   "outputs": [],
   "source": [],
   "metadata": {
    "collapsed": false
   }
  }
 ],
 "metadata": {
  "kernelspec": {
   "display_name": "Python 3",
   "language": "python",
   "name": "python3"
  },
  "language_info": {
   "codemirror_mode": {
    "name": "ipython",
    "version": 2
   },
   "file_extension": ".py",
   "mimetype": "text/x-python",
   "name": "python",
   "nbconvert_exporter": "python",
   "pygments_lexer": "ipython2",
   "version": "2.7.6"
  }
 },
 "nbformat": 4,
 "nbformat_minor": 0
}
